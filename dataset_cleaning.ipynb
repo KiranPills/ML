{
 "cells": [
  {
   "cell_type": "markdown",
   "id": "5d91ad01",
   "metadata": {},
   "source": [
    "# **ML Group 162: Thyroid Dataset Cleaning**"
   ]
  },
  {
   "cell_type": "markdown",
   "id": "b3fe3713",
   "metadata": {},
   "source": [
    "# Preliminaries"
   ]
  },
  {
   "cell_type": "code",
   "execution_count": 11,
   "id": "5e8767dd",
   "metadata": {},
   "outputs": [
    {
     "name": "stdout",
     "output_type": "stream",
     "text": [
      "Requirement already satisfied: pandas in c:\\users\\kaiso\\appdata\\local\\packages\\pythonsoftwarefoundation.python.3.11_qbz5n2kfra8p0\\localcache\\local-packages\\python311\\site-packages (2.2.3)\n",
      "Requirement already satisfied: numpy>=1.23.2 in c:\\users\\kaiso\\appdata\\local\\packages\\pythonsoftwarefoundation.python.3.11_qbz5n2kfra8p0\\localcache\\local-packages\\python311\\site-packages (from pandas) (2.2.3)\n",
      "Requirement already satisfied: python-dateutil>=2.8.2 in c:\\users\\kaiso\\appdata\\local\\packages\\pythonsoftwarefoundation.python.3.11_qbz5n2kfra8p0\\localcache\\local-packages\\python311\\site-packages (from pandas) (2.9.0.post0)\n",
      "Requirement already satisfied: pytz>=2020.1 in c:\\users\\kaiso\\appdata\\local\\packages\\pythonsoftwarefoundation.python.3.11_qbz5n2kfra8p0\\localcache\\local-packages\\python311\\site-packages (from pandas) (2025.1)\n",
      "Requirement already satisfied: tzdata>=2022.7 in c:\\users\\kaiso\\appdata\\local\\packages\\pythonsoftwarefoundation.python.3.11_qbz5n2kfra8p0\\localcache\\local-packages\\python311\\site-packages (from pandas) (2025.1)\n",
      "Requirement already satisfied: six>=1.5 in c:\\users\\kaiso\\appdata\\local\\packages\\pythonsoftwarefoundation.python.3.11_qbz5n2kfra8p0\\localcache\\local-packages\\python311\\site-packages (from python-dateutil>=2.8.2->pandas) (1.17.0)\n"
     ]
    },
    {
     "name": "stderr",
     "output_type": "stream",
     "text": [
      "ERROR: Could not find a version that satisfies the requirement matplotlib.pyplot (from versions: none)\n",
      "ERROR: No matching distribution found for matplotlib.pyplot\n"
     ]
    },
    {
     "name": "stdout",
     "output_type": "stream",
     "text": [
      "Requirement already satisfied: numpy in c:\\users\\kaiso\\appdata\\local\\packages\\pythonsoftwarefoundation.python.3.11_qbz5n2kfra8p0\\localcache\\local-packages\\python311\\site-packages (2.2.3)\n",
      "Requirement already satisfied: seaborn in c:\\users\\kaiso\\appdata\\local\\packages\\pythonsoftwarefoundation.python.3.11_qbz5n2kfra8p0\\localcache\\local-packages\\python311\\site-packages (0.13.2)\n",
      "Requirement already satisfied: numpy!=1.24.0,>=1.20 in c:\\users\\kaiso\\appdata\\local\\packages\\pythonsoftwarefoundation.python.3.11_qbz5n2kfra8p0\\localcache\\local-packages\\python311\\site-packages (from seaborn) (2.2.3)\n",
      "Requirement already satisfied: pandas>=1.2 in c:\\users\\kaiso\\appdata\\local\\packages\\pythonsoftwarefoundation.python.3.11_qbz5n2kfra8p0\\localcache\\local-packages\\python311\\site-packages (from seaborn) (2.2.3)\n",
      "Requirement already satisfied: matplotlib!=3.6.1,>=3.4 in c:\\users\\kaiso\\appdata\\local\\packages\\pythonsoftwarefoundation.python.3.11_qbz5n2kfra8p0\\localcache\\local-packages\\python311\\site-packages (from seaborn) (3.10.1)\n",
      "Requirement already satisfied: contourpy>=1.0.1 in c:\\users\\kaiso\\appdata\\local\\packages\\pythonsoftwarefoundation.python.3.11_qbz5n2kfra8p0\\localcache\\local-packages\\python311\\site-packages (from matplotlib!=3.6.1,>=3.4->seaborn) (1.3.1)\n",
      "Requirement already satisfied: cycler>=0.10 in c:\\users\\kaiso\\appdata\\local\\packages\\pythonsoftwarefoundation.python.3.11_qbz5n2kfra8p0\\localcache\\local-packages\\python311\\site-packages (from matplotlib!=3.6.1,>=3.4->seaborn) (0.12.1)\n",
      "Requirement already satisfied: fonttools>=4.22.0 in c:\\users\\kaiso\\appdata\\local\\packages\\pythonsoftwarefoundation.python.3.11_qbz5n2kfra8p0\\localcache\\local-packages\\python311\\site-packages (from matplotlib!=3.6.1,>=3.4->seaborn) (4.56.0)\n",
      "Requirement already satisfied: kiwisolver>=1.3.1 in c:\\users\\kaiso\\appdata\\local\\packages\\pythonsoftwarefoundation.python.3.11_qbz5n2kfra8p0\\localcache\\local-packages\\python311\\site-packages (from matplotlib!=3.6.1,>=3.4->seaborn) (1.4.8)\n",
      "Requirement already satisfied: packaging>=20.0 in c:\\users\\kaiso\\appdata\\local\\packages\\pythonsoftwarefoundation.python.3.11_qbz5n2kfra8p0\\localcache\\local-packages\\python311\\site-packages (from matplotlib!=3.6.1,>=3.4->seaborn) (24.2)\n",
      "Requirement already satisfied: pillow>=8 in c:\\users\\kaiso\\appdata\\local\\packages\\pythonsoftwarefoundation.python.3.11_qbz5n2kfra8p0\\localcache\\local-packages\\python311\\site-packages (from matplotlib!=3.6.1,>=3.4->seaborn) (11.1.0)\n",
      "Requirement already satisfied: pyparsing>=2.3.1 in c:\\users\\kaiso\\appdata\\local\\packages\\pythonsoftwarefoundation.python.3.11_qbz5n2kfra8p0\\localcache\\local-packages\\python311\\site-packages (from matplotlib!=3.6.1,>=3.4->seaborn) (3.2.1)\n",
      "Requirement already satisfied: python-dateutil>=2.7 in c:\\users\\kaiso\\appdata\\local\\packages\\pythonsoftwarefoundation.python.3.11_qbz5n2kfra8p0\\localcache\\local-packages\\python311\\site-packages (from matplotlib!=3.6.1,>=3.4->seaborn) (2.9.0.post0)\n",
      "Requirement already satisfied: pytz>=2020.1 in c:\\users\\kaiso\\appdata\\local\\packages\\pythonsoftwarefoundation.python.3.11_qbz5n2kfra8p0\\localcache\\local-packages\\python311\\site-packages (from pandas>=1.2->seaborn) (2025.1)\n",
      "Requirement already satisfied: tzdata>=2022.7 in c:\\users\\kaiso\\appdata\\local\\packages\\pythonsoftwarefoundation.python.3.11_qbz5n2kfra8p0\\localcache\\local-packages\\python311\\site-packages (from pandas>=1.2->seaborn) (2025.1)\n",
      "Requirement already satisfied: six>=1.5 in c:\\users\\kaiso\\appdata\\local\\packages\\pythonsoftwarefoundation.python.3.11_qbz5n2kfra8p0\\localcache\\local-packages\\python311\\site-packages (from python-dateutil>=2.7->matplotlib!=3.6.1,>=3.4->seaborn) (1.17.0)\n"
     ]
    }
   ],
   "source": [
    "! pip install pandas\n",
    "! pip install matplotlib.pyplot\n",
    "! pip install numpy\n",
    "! pip install seaborn\n",
    "\n",
    "import pandas as pd\n",
    "import numpy as np\n",
    "import matplotlib.pyplot as plt\n",
    "import seaborn as sns\n",
    "\n",
    "# Load dataset\n",
    "file_path = \"thyroidDF.csv\"\n",
    "df_original = pd.read_csv(file_path)\n",
    "df = pd.read_csv(file_path)"
   ]
  },
  {
   "cell_type": "markdown",
   "id": "d842d113",
   "metadata": {},
   "source": [
    "# Missing Values\n",
    "\n",
    "### Identifying Missing Values"
   ]
  },
  {
   "cell_type": "code",
   "execution_count": 12,
   "id": "6f5ab152",
   "metadata": {},
   "outputs": [
    {
     "name": "stdout",
     "output_type": "stream",
     "text": [
      "     Missing Values  Percentage\n",
      "sex             307    3.347143\n",
      "TSH             842    9.180113\n",
      "T3             2604   28.390754\n",
      "TT4             442    4.819014\n",
      "T4U             809    8.820323\n",
      "FTI             802    8.744003\n",
      "TBG            8823   96.194941\n"
     ]
    }
   ],
   "source": [
    "# Check for missing values\n",
    "missing_values = df.isnull().sum()\n",
    "missing_percent = (missing_values / len(df)) * 100\n",
    "\n",
    "# Display missing values in descending order\n",
    "missing_summary = pd.DataFrame({\"Missing Values\": missing_values, \"Percentage\": missing_percent})\n",
    "print(missing_summary[missing_summary[\"Missing Values\"] > 0])"
   ]
  },
  {
   "cell_type": "markdown",
   "id": "5ecfc642",
   "metadata": {},
   "source": [
    "### Handling Missing Values"
   ]
  },
  {
   "cell_type": "code",
   "execution_count": 13,
   "id": "db849d61",
   "metadata": {},
   "outputs": [],
   "source": [
    "#Drop features with too many missing values\n",
    "if \"TBG\" in df.columns:\n",
    "    df = df.drop(columns=[\"TBG\"])  \n",
    "\n",
    "#Impute missing  values in numerical columns Using median or mean imputation for continuous variables:\n",
    "# df[\"T3\"] = df[\"T3\"].fillna(df[\"T3\"].median()) \n",
    "# df[\"TT4\"] = df[\"TT4\"].fillna(df[\"TT4\"].mean())\n",
    "\n",
    "#To decrease the missing values for sex, check if pregnancy is true, and assign these instances female.\n",
    "df.loc[df[\"pregnant\"] == \"t\", \"sex\"] = \"F\"\n",
    "\n",
    "#Fill missing categorical values with \"Unknown\" or mode (most frequent value):\n",
    "df[\"on_thyroxine\"] = df[\"on_thyroxine\"].fillna(\"Unknown\")\n"
   ]
  },
  {
   "cell_type": "markdown",
   "id": "c824112f",
   "metadata": {},
   "source": [
    "### Percentage of missing values after handling them"
   ]
  },
  {
   "cell_type": "code",
   "execution_count": 14,
   "id": "2b6ea8cf",
   "metadata": {},
   "outputs": [
    {
     "name": "stdout",
     "output_type": "stream",
     "text": [
      "     Missing Values  Percentage\n",
      "sex             303    3.303532\n",
      "TSH             842    9.180113\n",
      "T3             2604   28.390754\n",
      "TT4             442    4.819014\n",
      "T4U             809    8.820323\n",
      "FTI             802    8.744003\n"
     ]
    }
   ],
   "source": [
    "# Check for missing values\n",
    "missing_values = df.isnull().sum()\n",
    "missing_percent = (missing_values / len(df)) * 100\n",
    "\n",
    "# Display missing values in descending order\n",
    "missing_summary = pd.DataFrame({\"Missing Values\": missing_values, \"Percentage\": missing_percent})\n",
    "print(missing_summary[missing_summary[\"Missing Values\"] > 0])"
   ]
  },
  {
   "cell_type": "markdown",
   "id": "9d1dda14",
   "metadata": {},
   "source": [
    "# Outliers\n",
    "\n",
    "### Identifying Outliers \n"
   ]
  },
  {
   "cell_type": "code",
   "execution_count": 15,
   "id": "4c267b41",
   "metadata": {},
   "outputs": [
    {
     "data": {
      "image/png": "[encoded data removed]",
      "text/plain": [
       "<Figure size 1200x600 with 1 Axes>"
      ]
     },
     "metadata": {},
     "output_type": "display_data"
    }
   ],
   "source": [
    "# Select numerical columns\n",
    "numerical_features = df.select_dtypes(include=['number']).columns\n",
    "\n",
    "# Plot boxplots to detect outliers\n",
    "plt.figure(figsize=(12, 6))\n",
    "df[numerical_features].boxplot(rot=90)  # Rotate labels for readability\n",
    "plt.title(\"Boxplots of Numerical Features (Detecting Outliers)\")\n",
    "plt.show()\n"
   ]
  },
  {
   "cell_type": "markdown",
   "id": "6011dcd8",
   "metadata": {},
   "source": [
    "### Handling Outliers \n",
    "\n",
    "Best Practice: If the dataset is large, removal is fine. If small, capping is preferred to avoid losing too much data."
   ]
  },
  {
   "cell_type": "code",
   "execution_count": 16,
   "id": "327ede19",
   "metadata": {},
   "outputs": [
    {
     "name": "stdout",
     "output_type": "stream",
     "text": [
      "    age sex on_thyroxine query_on_thyroxine on_antithyroid_meds sick pregnant  \\\n",
      "18   63   F            t                  f                   f    t        f   \n",
      "31   85   M            f                  f                   f    f        f   \n",
      "32   41   M            f                  f                   f    f        f   \n",
      "33   71   F            t                  f                   f    f        f   \n",
      "36   51   F            f                  f                   f    f        f   \n",
      "\n",
      "   thyroid_surgery I131_treatment query_hypothyroid  ...   T3 TT4_measured  \\\n",
      "18               f              f                 f  ...  NaN            t   \n",
      "31               f              f                 f  ...  0.1            t   \n",
      "32               f              f                 f  ...  1.6            t   \n",
      "33               f              f                 f  ...  NaN            t   \n",
      "36               f              f                 f  ...  2.1            t   \n",
      "\n",
      "      TT4 T4U_measured   T4U FTI_measured   FTI  TBG_measured referral_source  \\\n",
      "18   48.0            t  1.02            t  47.0             f           other   \n",
      "31   47.0            t  0.68            t  69.0             f             SVI   \n",
      "32   39.0            t  1.00            t  39.0             f           other   \n",
      "33  126.0            t  1.38            t  91.0             f           other   \n",
      "36  104.0            t  1.57            t  66.0             f             SVI   \n",
      "\n",
      "    target  \n",
      "18       F  \n",
      "31       -  \n",
      "32       R  \n",
      "33       I  \n",
      "36       -  \n",
      "\n",
      "[5 rows x 29 columns]\n",
      "Outlier rows saved as 'outlier_rows.csv'.\n"
     ]
    }
   ],
   "source": [
    "# Drop the patient_id column since it's not useful for feature learning\n",
    "df.drop(columns=['patient_id'], inplace=True)\n",
    "\n",
    "# Select numerical features for outlier detection (after dropping 'patient_id')\n",
    "numerical_features = df.select_dtypes(include=['number']).columns\n",
    "\n",
    "# Calculate IQR\n",
    "Q1 = df[numerical_features].quantile(0.25)  # 25th percentile\n",
    "Q3 = df[numerical_features].quantile(0.75)  # 75th percentile\n",
    "IQR = Q3 - Q1  # Interquartile range\n",
    "\n",
    "# Define lower and upper bounds\n",
    "lower_bound = Q1 - 1.5 * IQR\n",
    "upper_bound = Q3 + 1.5 * IQR\n",
    "\n",
    "# Identify outliers\n",
    "outliers = (df[numerical_features] < lower_bound) | (df[numerical_features] > upper_bound)\n",
    "\n",
    "# Filter the DataFrame to show only rows that have at least one outlier\n",
    "outlier_rows = df[outliers.any(axis=1)]\n",
    "\n",
    "# Display the first few outlier rows\n",
    "print(outlier_rows.head())\n",
    "\n",
    "# Save the outlier rows to a CSV for manual inspection\n",
    "outlier_rows.to_csv(\"outlier_rows.csv\", index=False)\n",
    "\n",
    "print(\"Outlier rows saved as 'outlier_rows.csv'.\")\n",
    "\n",
    "# Count number of outliers per column\n",
    "outliers.sum()\n",
    "\n",
    "df_cleaned = df.copy()\n",
    "\n",
    "numerical_features = df_cleaned.select_dtypes(include=['number']).columns"
   ]
  },
  {
   "cell_type": "markdown",
   "id": "e027403e",
   "metadata": {},
   "source": [
    "# Verifying Changes"
   ]
  },
  {
   "cell_type": "code",
   "execution_count": 17,
   "id": "a537e771",
   "metadata": {},
   "outputs": [
    {
     "name": "stdout",
     "output_type": "stream",
     "text": [
      "Original dataset size: (9172, 31)\n",
      "Cleaned dataset size: (9172, 29)\n"
     ]
    },
    {
     "data": {
      "image/png": "[encoded data removed]",
      "text/plain": [
       "<Figure size 1200x600 with 1 Axes>"
      ]
     },
     "metadata": {},
     "output_type": "display_data"
    }
   ],
   "source": [
    "print(\"Original dataset size:\", df_original.shape)\n",
    "print(\"Cleaned dataset size:\", df_cleaned.shape)\n",
    "\n",
    "# Plot new boxplots after removing outliers\n",
    "plt.figure(figsize=(12, 6))\n",
    "df_cleaned[numerical_features].boxplot(rot=90)\n",
    "plt.title(\"Boxplots After Handling Outliers\")\n",
    "plt.show()\n"
   ]
  },
  {
   "cell_type": "markdown",
   "id": "bf304ddc",
   "metadata": {},
   "source": [
    "# Saving Changes"
   ]
  },
  {
   "cell_type": "code",
   "execution_count": 18,
   "id": "5fe94545",
   "metadata": {},
   "outputs": [
    {
     "name": "stdout",
     "output_type": "stream",
     "text": [
      "Cleaned dataset saved!\n"
     ]
    }
   ],
   "source": [
    "df_cleaned.to_csv(\"thyroid_cleaned.csv\", index=False)\n",
    "print(\"Cleaned dataset saved!\")"
   ]
  }
 ],
 "metadata": {
  "kernelspec": {
   "display_name": "Python 3",
   "language": "python",
   "name": "python3"
  },
  "language_info": {
   "codemirror_mode": {
    "name": "ipython",
    "version": 3
   },
   "file_extension": ".py",
   "mimetype": "text/x-python",
   "name": "python",
   "nbconvert_exporter": "python",
   "pygments_lexer": "ipython3",
   "version": "3.11.9"
  }
 },
 "nbformat": 4,
 "nbformat_minor": 5
}
