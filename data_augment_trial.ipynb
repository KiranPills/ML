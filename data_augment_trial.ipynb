{
 "cells": [
  {
   "cell_type": "code",
   "metadata": {
    "ExecuteTime": {
     "end_time": "2025-03-12T14:24:42.962862Z",
     "start_time": "2025-03-12T14:24:27.982501Z"
    }
   },
   "source": [
    "import pandas as pd\n",
    "import numpy as np\n",
    "from random import random\n",
    "\n",
    "# Load the dataset from CSV\n",
    "df = pd.read_csv(\"thyroid_cleaned.csv\")\n",
    "\n",
    "# Function to add noise to numerical values\n",
    "def add_noise(value, noise_level=0.1):\n",
    "    if pd.isnull(value) or isinstance(value, str):  # Ensure only numerical values are altered\n",
    "        return value\n",
    "    return round(value + np.random.normal(0, noise_level * value), 2)\n",
    "\n",
    "# Function to randomly flip binary categorical values\n",
    "def flip_binary(value, prob=0.05):\n",
    "    if value in [\"t\", \"f\"] and random() < prob:\n",
    "        return \"t\" if value == \"f\" else \"f\"\n",
    "    return value\n",
    "\n",
    "# Function to randomly introduce missing values\n",
    "def introduce_missing(value, prob=0.02):\n",
    "    return None if random() < prob else value\n",
    "\n",
    "# Apply transformations\n",
    "augmented_df = df.copy()\n",
    "\n",
    "# Apply noise to numeric columns\n",
    "numeric_cols = [\"TSH\", \"T3\", \"TT4\", \"T4U\", \"FTI\"]\n",
    "for col in numeric_cols:\n",
    "    if col in augmented_df.columns:\n",
    "        augmented_df[col] = augmented_df[col].apply(lambda x: add_noise(x, 0.1))\n",
    "\n",
    "# Apply flipping to binary categorical columns\n",
    "binary_cols = [\"on_thyroxine\", \"query_on_thyroxine\", \"on_antithyroid_meds\",\n",
    "               \"sick\", \"pregnant\", \"thyroid_surgery\", \"I131_treatment\",\n",
    "               \"query_hypothyroid\", \"query_hyperthyroid\", \"lithium\",\n",
    "               \"goitre\", \"tumor\", \"hypopituitary\", \"psych\"]\n",
    "\n",
    "for col in binary_cols:\n",
    "    if col in augmented_df.columns:\n",
    "        augmented_df[col] = augmented_df[col].apply(lambda x: flip_binary(x, 0.05))\n",
    "\n",
    "# Introduce missing values randomly across all columns\n",
    "for col in augmented_df.columns:\n",
    "    augmented_df[col] = augmented_df[col].apply(lambda x: introduce_missing(x, 0.02))\n",
    "\n",
    "# Display augmented data\n",
    "print(augmented_df.head())\n",
    "\n",
    "# Save the augmented dataset to a new CSV file\n",
    "augmented_df.to_csv(\"augmented_thyroid_data.csv\", index=False)\n"
   ],
   "outputs": [
    {
     "name": "stdout",
     "output_type": "stream",
     "text": [
      "    age sex on_thyroxine query_on_thyroxine on_antithyroid_meds sick pregnant  \\\n",
      "0  29.0   F            f                  f                   f    f        f   \n",
      "1  29.0   F            f                  f                   f    f        f   \n",
      "2  41.0   F            f                  f                   f    f        f   \n",
      "3  36.0   F            f                  f                   f    f        f   \n",
      "4  32.0   F            f                  f                   f    f        f   \n",
      "\n",
      "  thyroid_surgery I131_treatment query_hypothyroid  ...    T3 TT4_measured  \\\n",
      "0               f              f                 t  ...   NaN            f   \n",
      "1               f              f                 f  ...  1.84            t   \n",
      "2               f              f                 f  ...   NaN            f   \n",
      "3               f              f                 f  ...   NaN            f   \n",
      "4               f              f                 f  ...   NaN            f   \n",
      "\n",
      "      TT4 T4U_measured T4U FTI_measured FTI  TBG_measured referral_source  \\\n",
      "0     NaN            f NaN            f NaN             f           other   \n",
      "1  136.74            f NaN            f NaN             f           other   \n",
      "2     NaN            f NaN            f NaN             t           other   \n",
      "3     NaN            f NaN            f NaN             t           other   \n",
      "4     NaN            f NaN            f NaN             t           other   \n",
      "\n",
      "   target  \n",
      "0       -  \n",
      "1       -  \n",
      "2       -  \n",
      "3       -  \n",
      "4       S  \n",
      "\n",
      "[5 rows x 29 columns]\n"
     ]
    }
   ],
   "execution_count": 4
  },
  {
   "cell_type": "code",
   "execution_count": null,
   "metadata": {},
   "outputs": [],
   "source": []
  }
 ],
 "metadata": {
  "kernelspec": {
   "display_name": "Py1",
   "language": "python",
   "name": "python3"
  },
  "language_info": {
   "codemirror_mode": {
    "name": "ipython",
    "version": 3
   },
   "file_extension": ".py",
   "mimetype": "text/x-python",
   "name": "python",
   "nbconvert_exporter": "python",
   "pygments_lexer": "ipython3",
   "version": "3.10.12"
  }
 },
 "nbformat": 4,
 "nbformat_minor": 2
}
