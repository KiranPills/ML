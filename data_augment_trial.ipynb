{
 "cells": [
  {
   "cell_type": "code",
   "metadata": {
    "ExecuteTime": {
     "end_time": "2025-03-12T13:53:56.784207Z",
     "start_time": "2025-03-12T13:53:56.289805Z"
    }
   },
   "source": [
    "import pandas as pd\n",
    "import numpy as np\n",
    "from random import choice, random\n",
    "\n",
    "# Load your dataset (replace with actual file if needed)\n",
    "columns = [\"age\", \"sex\", \"on_thyroxine\", \"query_on_thyroxine\", \"on_antithyroid_meds\",\n",
    "           \"sick\", \"pregnant\", \"thyroid_surgery\", \"I131_treatment\", \"query_hypothyroid\",\n",
    "           \"query_hyperthyroid\", \"lithium\", \"goitre\", \"tumor\", \"hypopituitary\", \"psych\",\n",
    "           \"TSH_measured\", \"TSH\", \"T3_measured\", \"T3\", \"TT4_measured\", \"TT4\",\n",
    "           \"T4U_measured\", \"T4U\", \"FTI_measured\", \"FTI\", \"TBG_measured\", \"referral_source\", \"target\"]\n",
    "\n",
    "# Example subset of data\n",
    "data = [\n",
    "    [29, \"F\", \"f\", \"f\", \"f\", \"f\", \"f\", \"f\", \"f\", \"t\", \"f\", \"f\", \"f\", \"f\", \"f\", \"f\", \"t\", 0.3, \"f\", None, \"f\", None, \"f\", None, \"f\", None, \"other\", \"-\"],\n",
    "    [29, \"F\", \"f\", \"f\", \"f\", \"f\", \"f\", \"f\", \"f\", \"f\", \"f\", \"f\", \"f\", \"f\", \"f\", \"f\", \"t\", 1.6, \"t\", 1.9, \"t\", 128.0, \"f\", None, \"f\", None, \"f\", \"other\", \"-\"],\n",
    "    [77, \"F\", \"f\", \"f\", \"f\", \"f\", \"f\", \"f\", \"f\", \"f\", \"f\", \"f\", \"f\", \"f\", \"f\", \"f\", \"t\", 0.05, \"t\", 2.4, \"t\", 107.0, \"t\", 1.13, \"t\", 95.0, \"f\", \"other\", \"-\"]\n",
    "]\n",
    "\n",
    "df = pd.DataFrame(data, columns=columns)\n",
    "\n",
    "# Function to add noise to numerical values\n",
    "def add_noise(value, noise_level=0.1):\n",
    "    if pd.isnull(value) or value == \"f\" or value == \"t\":\n",
    "        return value  # Do not alter categorical values\n",
    "    return round(value + np.random.normal(0, noise_level * value), 2)\n",
    "\n",
    "# Function to randomly flip binary categorical values\n",
    "def flip_binary(value, prob=0.05):\n",
    "    if value in [\"t\", \"f\"] and random() < prob:\n",
    "        return \"t\" if value == \"f\" else \"f\"\n",
    "    return value\n",
    "\n",
    "# Function to randomly introduce missing values\n",
    "def introduce_missing(value, prob=0.02):\n",
    "    return None if random() < prob else value\n",
    "\n",
    "# Apply transformations\n",
    "augmented_df = df.copy()\n",
    "\n",
    "for col in [\"TSH\", \"T3\", \"TT4\", \"T4U\", \"FTI\"]:\n",
    "    augmented_df[col] = augmented_df[col].apply(lambda x: add_noise(x, 0.1))\n",
    "\n",
    "for col in [\"on_thyroxine\", \"query_on_thyroxine\", \"on_antithyroid_meds\",\n",
    "            \"sick\", \"pregnant\", \"thyroid_surgery\", \"I131_treatment\",\n",
    "            \"query_hypothyroid\", \"query_hyperthyroid\", \"lithium\",\n",
    "            \"goitre\", \"tumor\", \"hypopituitary\", \"psych\"]:\n",
    "    augmented_df[col] = augmented_df[col].apply(lambda x: flip_binary(x, 0.05))\n",
    "\n",
    "for col in augmented_df.columns:\n",
    "    augmented_df[col] = augmented_df[col].apply(lambda x: introduce_missing(x, 0.02))\n",
    "\n",
    "# Display augmented data\n",
    "print(augmented_df.head())\n",
    "\n",
    "# Save to CSV\n",
    "augmented_df.to_csv(\"augmented_thyroid_data.csv\", index=False)\n",
    "from sklearn.model_selection import train_test_split\n",
    "import pandas as pd\n",
    "import numpy as np"
   ],
   "outputs": [
    {
     "name": "stdout",
     "output_type": "stream",
     "text": [
      "   age sex on_thyroxine query_on_thyroxine on_antithyroid_meds sick pregnant  \\\n",
      "0   29   F            f               None                   f    f        f   \n",
      "1   29   F            f                  f                   f    f        f   \n",
      "2   77   F            f                  f                   f    f        f   \n",
      "\n",
      "  thyroid_surgery I131_treatment query_hypothyroid  ...    T3 TT4_measured  \\\n",
      "0               f              f                 t  ...   NaN            f   \n",
      "1               f              f                 f  ...  1.89            t   \n",
      "2               f              f                 f  ...  2.26            t   \n",
      "\n",
      "      TT4 T4U_measured   T4U FTI_measured    FTI  TBG_measured  \\\n",
      "0     NaN            f   NaN            f    NaN         other   \n",
      "1  120.52            f   NaN            f    NaN             f   \n",
      "2  116.82            t  1.28            t  90.88             f   \n",
      "\n",
      "  referral_source  target  \n",
      "0               -    None  \n",
      "1           other       -  \n",
      "2           other       -  \n",
      "\n",
      "[3 rows x 29 columns]\n"
     ]
    },
    {
     "ename": "ModuleNotFoundError",
     "evalue": "No module named 'sklearn'",
     "output_type": "error",
     "traceback": [
      "\u001B[31m---------------------------------------------------------------------------\u001B[39m",
      "\u001B[31mModuleNotFoundError\u001B[39m                       Traceback (most recent call last)",
      "\u001B[36mCell\u001B[39m\u001B[36m \u001B[39m\u001B[32mIn[2]\u001B[39m\u001B[32m, line 57\u001B[39m\n\u001B[32m     55\u001B[39m \u001B[38;5;66;03m# Save to CSV\u001B[39;00m\n\u001B[32m     56\u001B[39m augmented_df.to_csv(\u001B[33m\"\u001B[39m\u001B[33maugmented_thyroid_data.csv\u001B[39m\u001B[33m\"\u001B[39m, index=\u001B[38;5;28;01mFalse\u001B[39;00m)\n\u001B[32m---> \u001B[39m\u001B[32m57\u001B[39m \u001B[38;5;28;01mfrom\u001B[39;00m\u001B[38;5;250m \u001B[39m\u001B[34;01msklearn\u001B[39;00m\u001B[34;01m.\u001B[39;00m\u001B[34;01mmodel_selection\u001B[39;00m\u001B[38;5;250m \u001B[39m\u001B[38;5;28;01mimport\u001B[39;00m train_test_split\n\u001B[32m     58\u001B[39m \u001B[38;5;28;01mimport\u001B[39;00m\u001B[38;5;250m \u001B[39m\u001B[34;01mpandas\u001B[39;00m\u001B[38;5;250m \u001B[39m\u001B[38;5;28;01mas\u001B[39;00m\u001B[38;5;250m \u001B[39m\u001B[34;01mpd\u001B[39;00m\n\u001B[32m     59\u001B[39m \u001B[38;5;28;01mimport\u001B[39;00m\u001B[38;5;250m \u001B[39m\u001B[34;01mnumpy\u001B[39;00m\u001B[38;5;250m \u001B[39m\u001B[38;5;28;01mas\u001B[39;00m\u001B[38;5;250m \u001B[39m\u001B[34;01mnp\u001B[39;00m\n",
      "\u001B[31mModuleNotFoundError\u001B[39m: No module named 'sklearn'"
     ]
    }
   ],
   "execution_count": 2
  },
  {
   "cell_type": "code",
   "execution_count": null,
   "metadata": {},
   "outputs": [],
   "source": []
  }
 ],
 "metadata": {
  "kernelspec": {
   "display_name": "Py1",
   "language": "python",
   "name": "python3"
  },
  "language_info": {
   "codemirror_mode": {
    "name": "ipython",
    "version": 3
   },
   "file_extension": ".py",
   "mimetype": "text/x-python",
   "name": "python",
   "nbconvert_exporter": "python",
   "pygments_lexer": "ipython3",
   "version": "3.10.12"
  }
 },
 "nbformat": 4,
 "nbformat_minor": 2
}
