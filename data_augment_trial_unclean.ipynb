{
 "cells": [
  {
   "cell_type": "code",
   "execution_count": 1,
   "metadata": {
    "ExecuteTime": {
     "end_time": "2025-03-12T14:32:02.445305Z",
     "start_time": "2025-03-12T14:31:55.726943Z"
    }
   },
   "outputs": [
    {
     "name": "stdout",
     "output_type": "stream",
     "text": [
      "   age sex on_thyroxine query_on_thyroxine on_antithyroid_meds sick pregnant  \\\n",
      "0   29   F            t                  t                   f    f        f   \n",
      "1   29   F            f                  f                   f    f        f   \n",
      "2   41   F            f                  f                   f    f        f   \n",
      "3   36   F            f                  t                   f    f        t   \n",
      "4   32   F            f                  f                   f    f        f   \n",
      "\n",
      "  thyroid_surgery I131_treatment query_hypothyroid  ...     TT4 T4U_measured  \\\n",
      "0               f              f                 t  ...     NaN            f   \n",
      "1               f              t                 f  ...  154.14            f   \n",
      "2               f              f                 f  ...     NaN            f   \n",
      "3               f              f                 f  ...     NaN            f   \n",
      "4               f              f                 f  ...     NaN            f   \n",
      "\n",
      "  T4U FTI_measured FTI TBG_measured   TBG  referral_source target  patient_id  \n",
      "0 NaN            f NaN            f   NaN            other      -   840801013  \n",
      "1 NaN            f NaN            f   NaN            other      -   840801014  \n",
      "2 NaN            f NaN            t  11.0            other      -   840801042  \n",
      "3 NaN            f NaN            t  26.0            other      -   840803046  \n",
      "4 NaN            f NaN            t  36.0            other      S   840803047  \n",
      "\n",
      "[5 rows x 31 columns]\n"
     ]
    }
   ],
   "source": [
    "import pandas as pd\n",
    "import numpy as np\n",
    "from random import random\n",
    "\n",
    "# Load the dataset from CSV\n",
    "df = pd.read_csv(\"thyroidDF.csv\")\n",
    "\n",
    "# Function to add noise to numerical values\n",
    "def add_noise(value, noise_level=0.1):\n",
    "    if pd.isnull(value) or isinstance(value, str):  # Ensure only numerical values are altered\n",
    "        return value\n",
    "    return round(value + np.random.normal(0, noise_level * value), 2)\n",
    "\n",
    "# Function to randomly flip binary categorical values\n",
    "def flip_binary(value, prob=0.05):\n",
    "    if value in [\"t\", \"f\"] and random() < prob:\n",
    "        return \"t\" if value == \"f\" else \"f\"\n",
    "    return value\n",
    "\n",
    "# Function to introduce missing values only in specific columns\n",
    "def introduce_missing(value, prob=0.02):\n",
    "    return None if random() < prob else value\n",
    "\n",
    "# Columns to modify\n",
    "numeric_cols = [\"TSH\", \"T3\", \"TT4\", \"T4U\", \"FTI\"]\n",
    "binary_cols = [\"on_thyroxine\", \"query_on_thyroxine\", \"on_antithyroid_meds\",\n",
    "               \"sick\", \"pregnant\", \"thyroid_surgery\", \"I131_treatment\",\n",
    "               \"query_hypothyroid\", \"query_hyperthyroid\", \"lithium\",\n",
    "               \"goitre\", \"tumor\", \"hypopituitary\", \"psych\"]\n",
    "missing_value_cols = [\"sex\", \"T4U\", \"FTI\"]\n",
    "\n",
    "# Generate 10x augmented data\n",
    "augmented_data = []\n",
    "for _ in range(10):  # Repeat 10 times\n",
    "    temp_df = df.copy()\n",
    "\n",
    "    # Apply noise to numeric columns\n",
    "    for col in numeric_cols:\n",
    "        if col in temp_df.columns:\n",
    "            temp_df[col] = temp_df[col].apply(lambda x: add_noise(x, 0.1))\n",
    "\n",
    "    # Apply flipping to binary categorical columns\n",
    "    for col in binary_cols:\n",
    "        if col in temp_df.columns:\n",
    "            temp_df[col] = temp_df[col].apply(lambda x: flip_binary(x, 0.05))\n",
    "\n",
    "    # Introduce missing values only in specific columns\n",
    "    for col in missing_value_cols:\n",
    "        if col in temp_df.columns:\n",
    "            temp_df[col] = temp_df[col].apply(lambda x: introduce_missing(x, 0.02))\n",
    "\n",
    "    augmented_data.append(temp_df)\n",
    "\n",
    "# Combine all augmented data into a single DataFrame\n",
    "final_augmented_df = pd.concat(augmented_data, ignore_index=True)\n",
    "\n",
    "# Display first few rows\n",
    "print(final_augmented_df.head())\n",
    "\n",
    "# Save the final augmented dataset\n",
    "final_augmented_df.to_csv(\"augmented_thyroid_data_unclean.csv\", index=False)\n",
    "\n"
   ]
  },
  {
   "cell_type": "code",
   "execution_count": null,
   "metadata": {},
   "outputs": [],
   "source": []
  }
 ],
 "metadata": {
  "kernelspec": {
   "display_name": "Py1",
   "language": "python",
   "name": "python3"
  },
  "language_info": {
   "codemirror_mode": {
    "name": "ipython",
    "version": 3
   },
   "file_extension": ".py",
   "mimetype": "text/x-python",
   "name": "python",
   "nbconvert_exporter": "python",
   "pygments_lexer": "ipython3",
   "version": "3.10.12"
  }
 },
 "nbformat": 4,
 "nbformat_minor": 2
}
