{
 "cells": [
  {
   "cell_type": "code",
   "execution_count": null,
   "metadata": {},
   "outputs": [],
   "source": [
    "from sklearn.model_selection import train_test_split\n",
    "import pandas as pd\n",
    "import numpy as np"
   ]
  },
  {
   "cell_type": "code",
   "execution_count": 1,
   "metadata": {},
   "outputs": [
    {
     "ename": "NameError",
     "evalue": "name 'pd' is not defined",
     "output_type": "error",
     "traceback": [
      "\u001b[0;31m---------------------------------------------------------------------------\u001b[0m",
      "\u001b[0;31mNameError\u001b[0m                                 Traceback (most recent call last)",
      "Cell \u001b[0;32mIn[1], line 1\u001b[0m\n\u001b[0;32m----> 1\u001b[0m df \u001b[38;5;241m=\u001b[39m pd\u001b[38;5;241m.\u001b[39mread_csv(\u001b[38;5;124m\"\u001b[39m\u001b[38;5;124mthyroid_cleaned.csv\u001b[39m\u001b[38;5;124m\"\u001b[39m)\n\u001b[1;32m      2\u001b[0m bin_edges \u001b[38;5;241m=\u001b[39m [\u001b[38;5;241m-\u001b[39mnp\u001b[38;5;241m.\u001b[39minf, \u001b[38;5;241m0.4\u001b[39m, \u001b[38;5;241m4.0\u001b[39m, np\u001b[38;5;241m.\u001b[39minf]  \u001b[38;5;66;03m# Below 0.4 = Low, Between 0.4-4.0 = Normal, Above 4.0 = High\u001b[39;00m\n\u001b[1;32m      3\u001b[0m bin_labels \u001b[38;5;241m=\u001b[39m [\u001b[38;5;124m\"\u001b[39m\u001b[38;5;124mLow\u001b[39m\u001b[38;5;124m\"\u001b[39m, \u001b[38;5;124m\"\u001b[39m\u001b[38;5;124mNormal\u001b[39m\u001b[38;5;124m\"\u001b[39m, \u001b[38;5;124m\"\u001b[39m\u001b[38;5;124mHigh\u001b[39m\u001b[38;5;124m\"\u001b[39m]\n",
      "\u001b[0;31mNameError\u001b[0m: name 'pd' is not defined"
     ]
    }
   ],
   "source": [
    "df = pd.read_csv(\"thyroid_cleaned.csv\")\n",
    "bin_edges = [-np.inf, 0.4, 4.0, np.inf]  # Below 0.4 = Low, Between 0.4-4.0 = Normal, Above 4.0 = High\n",
    "bin_labels = [\"Low\", \"Normal\", \"High\"]\n",
    "df[\"TSH_category\"] = pd.cut(df[\"TSH\"], bins=bin_edges, labels=bin_labels)\n",
    "\n",
    "df[\"stratify_feature\"] = df[\"sex\"].astype(str) + \"_\" + df[\"TSH_measured\"].astype(str) + \"_\" + df[\"TSH_category\"].astype(str)\n",
    "train_df, val_df = train_test_split(df, test_size=0.2, stratify=df[\"stratify_feature\"], random_state=42)\n",
    "train_df.drop(columns=[\"stratify_feature\"], inplace=True)\n",
    "val_df.drop(columns=[\"stratify_feature\"], inplace=True)"
   ]
  },
  {
   "cell_type": "code",
   "execution_count": null,
   "metadata": {},
   "outputs": [],
   "source": [
    "train_df.to_csv(\"thyroid_train.csv\", index=False)  # Save training set (80%)\n",
    "val_df.to_csv(\"thyroid_validation.csv\", index=False)  # Save validation set (20%)\n",
    "\n",
    "print(\"Stratified dataset successfully split and saved.\")"
   ]
  }
 ],
 "metadata": {
  "kernelspec": {
   "display_name": "base",
   "language": "python",
   "name": "python3"
  },
  "language_info": {
   "codemirror_mode": {
    "name": "ipython",
    "version": 3
   },
   "file_extension": ".py",
   "mimetype": "text/x-python",
   "name": "python",
   "nbconvert_exporter": "python",
   "pygments_lexer": "ipython3",
   "version": "3.12.7"
  }
 },
 "nbformat": 4,
 "nbformat_minor": 2
}
