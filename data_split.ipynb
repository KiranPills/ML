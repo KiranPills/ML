{
 "cells": [
  {
   "cell_type": "code",
   "execution_count": null,
   "metadata": {},
   "outputs": [],
   "source": [
    "from sklearn.model_selection import train_test_split\n",
    "import pandas as pd\n",
    "import numpy as np"
   ]
  },
  {
   "cell_type": "code",
   "execution_count": 2,
   "metadata": {},
   "outputs": [],
   "source": [
    "df = pd.read_csv(\"thyroid_cleaned.csv\")\n",
    "bin_edges = [-np.inf, 0.4, 4.0, np.inf]  # Below 0.4 = Low, Between 0.4-4.0 = Normal, Above 4.0 = High\n",
    "bin_labels = [\"Low\", \"Normal\", \"High\"]\n",
    "df[\"TSH_category\"] = pd.cut(df[\"TSH\"], bins=bin_edges, labels=bin_labels)\n",
    "\n",
    "df[\"stratify_feature\"] = df[\"sex\"].astype(str) + \"_\" + df[\"TSH_measured\"].astype(str) + \"_\" + df[\"TSH_category\"].astype(str)\n",
    "train_df, val_df = train_test_split(df, test_size=0.2, stratify=df[\"stratify_feature\"], random_state=42)\n",
    "train_df.drop(columns=[\"stratify_feature\"], inplace=True)\n",
    "val_df.drop(columns=[\"stratify_feature\"], inplace=True)"
   ]
  },
  {
   "cell_type": "code",
   "execution_count": 3,
   "metadata": {},
   "outputs": [
    {
     "name": "stdout",
     "output_type": "stream",
     "text": [
      "Stratified dataset successfully split and saved.\n"
     ]
    }
   ],
   "source": [
    "train_df.to_csv(\"thyroid_train.csv\", index=False)  # Save training set (80%)\n",
    "val_df.to_csv(\"thyroid_validation.csv\", index=False)  # Save validation set (20%)\n",
    "\n",
    "print(\"Stratified dataset successfully split and saved.\")"
   ]
  }
 ],
 "metadata": {
  "kernelspec": {
   "display_name": "base",
   "language": "python",
   "name": "python3"
  },
  "language_info": {
   "codemirror_mode": {
    "name": "ipython",
    "version": 3
   },
   "file_extension": ".py",
   "mimetype": "text/x-python",
   "name": "python",
   "nbconvert_exporter": "python",
   "pygments_lexer": "ipython3",
   "version": "3.12.7"
  }
 },
 "nbformat": 4,
 "nbformat_minor": 2
}
